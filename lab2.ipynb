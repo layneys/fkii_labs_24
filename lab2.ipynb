{
 "cells": [
  {
   "cell_type": "markdown",
   "id": "2d70a1d5-e648-45b1-ae7f-6a12e73b57b4",
   "metadata": {},
   "source": [
    "# Подключение библиотек"
   ]
  },
  {
   "cell_type": "code",
   "execution_count": 12,
   "id": "1bb79088",
   "metadata": {},
   "outputs": [],
   "source": [
    "import pygmo as pg\n",
    "import numpy as np\n",
    "from prettytable import PrettyTable"
   ]
  },
  {
   "cell_type": "markdown",
   "id": "b91a9f3f-3c7d-42a2-bbc0-04ce175f0d53",
   "metadata": {},
   "source": [
    "# Необходимые функции"
   ]
  },
  {
   "cell_type": "code",
   "execution_count": 15,
   "id": "64d87a03-21a1-435a-abc5-ef8873683726",
   "metadata": {},
   "outputs": [],
   "source": [
    "def algo_comparison(prob, algorithm, algorithm_name):\n",
    "    algo = pg.algorithm(algorithm(gen=3500))\n",
    "    pop = pg.population(prob, size=13)\n",
    "    pop = algo.evolve(pop) \n",
    "    best_solution = pop.champion_x\n",
    "    z = pop.champion_f[0]\n",
    "    point = np.append(best_solution, z)\n",
    "    error = np.linalg.norm(point - opt)\n",
    "    return algorithm_name, best_solution[0], best_solution[1], z, error"
   ]
  },
  {
   "cell_type": "markdown",
   "id": "3169ef3b-a358-4b91-9901-058c16cf5d52",
   "metadata": {},
   "source": [
    "# Сравнение алгоритмов на функции Матьяса"
   ]
  },
  {
   "cell_type": "code",
   "execution_count": 18,
   "id": "0d96b183-2535-4c09-bfca-377c721058ce",
   "metadata": {},
   "outputs": [
    {
     "name": "stdout",
     "output_type": "stream",
     "text": [
      "Problem name: Matyas Function\n",
      "\tC++ class name: pybind11::object\n",
      "\n",
      "\tGlobal dimension:\t\t\t2\n",
      "\tInteger dimension:\t\t\t0\n",
      "\tFitness dimension:\t\t\t1\n",
      "\tNumber of objectives:\t\t\t1\n",
      "\tEquality constraints dimension:\t\t0\n",
      "\tInequality constraints dimension:\t0\n",
      "\tLower bounds: [-10, -10]\n",
      "\tUpper bounds: [10, 10]\n",
      "\tHas batch fitness evaluation: false\n",
      "\n",
      "\tHas gradient: false\n",
      "\tUser implemented gradient sparsity: false\n",
      "\tHas hessians: false\n",
      "\tUser implemented hessians sparsity: false\n",
      "\n",
      "\tFitness evaluations: 0\n",
      "\n",
      "\tThread safety: none\n",
      "\n"
     ]
    }
   ],
   "source": [
    "class matyas_function:\n",
    "\n",
    "    def __init__(self,dim):\n",
    "\n",
    "        self.dim = dim\n",
    "    \n",
    "    def fitness(self, x):\n",
    "        return [0.26*(x[0]**2+x[1]**2) - 0.48*x[0]*x[1]]\n",
    "\n",
    "    def get_bounds(self):\n",
    "        return ([-10, -10], [10, 10])\n",
    "    \n",
    "    def get_name(self):\n",
    "        return \"Matyas Function\"\n",
    "\n",
    "prob = pg.problem(matyas_function(2))\n",
    "opt = np.array([0,0,0])\n",
    "print(prob)"
   ]
  },
  {
   "cell_type": "code",
   "execution_count": 20,
   "id": "1358b87a-3588-46a7-9ae7-3c37a5073672",
   "metadata": {},
   "outputs": [
    {
     "name": "stdout",
     "output_type": "stream",
     "text": [
      "Сравнение на функции Матьяса\n",
      "+----------------------------+-------------------------+-------------------------+----------------------------+-------------------------+\n",
      "|          Алгоритм          |            x            |            y            | Значение в найденной точке |       Погрешность       |\n",
      "+----------------------------+-------------------------+-------------------------+----------------------------+-------------------------+\n",
      "|    Grey Wolf Optimizer     | -5.483974723037624e-162 | -8.643954836011962e-162 |            0.0             | 1.0185960221140752e-161 |\n",
      "|   Artificial Bee Colony    |   -0.07180557447443725  |   -0.06282772318272664  |   0.00020141170183444242   |   0.09541175971861601   |\n",
      "| Self-adaptive DE (de_1220) |  -6.403516443294792e-05 | -0.00012598206415496526 |   1.320420067894731e-09    |  0.00014132226567120968 |\n",
      "+----------------------------+-------------------------+-------------------------+----------------------------+-------------------------+\n"
     ]
    }
   ],
   "source": [
    "print(f\"Сравнение на функции Матьяса\")\n",
    "algorithms = {\n",
    "    \"Grey Wolf Optimizer\": pg.gwo,\n",
    "    \"Artificial Bee Colony\": pg.bee_colony,\n",
    "    \"Self-adaptive DE (de_1220)\": pg.de1220,\n",
    "}\n",
    "\n",
    "table = PrettyTable()\n",
    "table.field_names = [\"Алгоритм\", \"x\", \"y\", \"Значение в найденной точке\", \"Погрешность\"]\n",
    "\n",
    "for key, value in algorithms.items():\n",
    "    result = algo_comparison(prob, value, key)\n",
    "    table.add_row([result[0],result[1],result[2],result[3], result[4]])\n",
    "print(table)"
   ]
  },
  {
   "cell_type": "markdown",
   "id": "782a8a8b-34d1-4766-b9d9-12031d6db599",
   "metadata": {},
   "source": [
    "# Сравнение алгоритмов на функции Леви"
   ]
  },
  {
   "cell_type": "code",
   "execution_count": 23,
   "id": "22b0b115-2b37-4f06-97eb-1f128a2ba011",
   "metadata": {},
   "outputs": [
    {
     "name": "stdout",
     "output_type": "stream",
     "text": [
      "Problem name: Levi Function\n",
      "\tC++ class name: pybind11::object\n",
      "\n",
      "\tGlobal dimension:\t\t\t2\n",
      "\tInteger dimension:\t\t\t0\n",
      "\tFitness dimension:\t\t\t1\n",
      "\tNumber of objectives:\t\t\t1\n",
      "\tEquality constraints dimension:\t\t0\n",
      "\tInequality constraints dimension:\t0\n",
      "\tLower bounds: [-10, -10]\n",
      "\tUpper bounds: [10, 10]\n",
      "\tHas batch fitness evaluation: false\n",
      "\n",
      "\tHas gradient: false\n",
      "\tUser implemented gradient sparsity: false\n",
      "\tHas hessians: false\n",
      "\tUser implemented hessians sparsity: false\n",
      "\n",
      "\tFitness evaluations: 0\n",
      "\n",
      "\tThread safety: none\n",
      "\n"
     ]
    }
   ],
   "source": [
    "class levi_function:\n",
    "\n",
    "    def __init__(self,dim):\n",
    "\n",
    "        self.dim = dim\n",
    "    \n",
    "    def fitness(self, x):\n",
    "        return [np.sin(np.pi * x[0])**2 + (x[0] - 1)**2 * (1 + np.sin(3 * np.pi * x[1])**2) +\n",
    "             (x[1] - 1)**2 * (1 + np.sin(2 * np.pi * x[1])**2)]\n",
    "\n",
    "    def get_bounds(self):\n",
    "        return ([-10, -10], [10, 10])\n",
    "    \n",
    "    def get_name(self):\n",
    "        return \"Levi Function\"\n",
    "\n",
    "prob = pg.problem(levi_function(2))\n",
    "opt = np.array([1,1,0])\n",
    "print(prob)"
   ]
  },
  {
   "cell_type": "code",
   "execution_count": 25,
   "id": "7775824d-6ec4-4dbd-bd79-95018ff6aee6",
   "metadata": {},
   "outputs": [
    {
     "name": "stdout",
     "output_type": "stream",
     "text": [
      "Сравнение на функции Леви\n",
      "+----------------------------+--------------------+--------------------+----------------------------+------------------------+\n",
      "|          Алгоритм          |         x          |         y          | Значение в найденной точке |      Погрешность       |\n",
      "+----------------------------+--------------------+--------------------+----------------------------+------------------------+\n",
      "|    Grey Wolf Optimizer     | 1.0000167796135562 | 1.0000046112774592 |   3.081660030766135e-09    | 1.7401704525618717e-05 |\n",
      "|   Artificial Bee Colony    | 0.9985038166954863 | 0.9884635286894141 |   0.00015814673503412543   |  0.011634162847857975  |\n",
      "| Self-adaptive DE (de_1220) | 0.9999180959507445 | 0.9999905177412803 |   7.300618863949258e-08    | 8.245114823196894e-05  |\n",
      "+----------------------------+--------------------+--------------------+----------------------------+------------------------+\n"
     ]
    }
   ],
   "source": [
    "print(f\"Сравнение на функции Леви\")\n",
    "algorithms = {\n",
    "    \"Grey Wolf Optimizer\": pg.gwo,\n",
    "    \"Artificial Bee Colony\": pg.bee_colony,\n",
    "    \"Self-adaptive DE (de_1220)\": pg.de1220,\n",
    "}\n",
    "\n",
    "table = PrettyTable()\n",
    "table.field_names = [\"Алгоритм\", \"x\", \"y\", \"Значение в найденной точке\", \"Погрешность\"]\n",
    "\n",
    "for key, value in algorithms.items():\n",
    "    result = algo_comparison(prob, value, key)\n",
    "    table.add_row([result[0],result[1],result[2],result[3], result[4]])\n",
    "print(table)"
   ]
  },
  {
   "cell_type": "markdown",
   "id": "f16cd063-ce29-4451-b85f-95a671103106",
   "metadata": {},
   "source": [
    "# Выводы"
   ]
  },
  {
   "cell_type": "markdown",
   "id": "10e129c5-83c4-4eab-a85b-0cdb4cf35104",
   "metadata": {},
   "source": [
    "На основе проведенных исследований можно сделать следующие выводы:\n",
    "1) Реализовано сравнение на ранее выбранных двух тестирующих функциях для трех генетических алгоритмов;\n",
    "2) Генетические алгоритмы имеют меньший риск застрять в локальных минимумах функции;\n",
    "3) В сравнении с градиентным спуском затрачивают больше вычислительных ресурсов из-за обработки множества решений;\n",
    "4) Генетические алгоритмы могут быть медленными на больших решениях."
   ]
  }
 ],
 "metadata": {
  "kernelspec": {
   "display_name": "Python [conda env:base] *",
   "language": "python",
   "name": "conda-base-py"
  },
  "language_info": {
   "codemirror_mode": {
    "name": "ipython",
    "version": 3
   },
   "file_extension": ".py",
   "mimetype": "text/x-python",
   "name": "python",
   "nbconvert_exporter": "python",
   "pygments_lexer": "ipython3",
   "version": "3.12.2"
  }
 },
 "nbformat": 4,
 "nbformat_minor": 5
}
